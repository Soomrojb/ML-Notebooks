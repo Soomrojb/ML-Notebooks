{
 "cells": [
  {
   "cell_type": "code",
   "execution_count": null,
   "metadata": {
    "id": "AtIUNvohKag6"
   },
   "outputs": [],
   "source": [
    "# load repositories\n",
    "import matplotlib.pyplot as plt\n",
    "from tensorflow.keras.datasets import mnist\n",
    "from tensorflow.keras.models import Sequential, load_model\n",
    "from tensorflow.keras.layers import Dense, Flatten, InputLayer, Softmax\n",
    "from tensorflow.keras.losses import CategoricalCrossentropy\n",
    "from tensorflow.keras.utils import to_categorical"
   ]
  },
  {
   "cell_type": "code",
   "execution_count": null,
   "metadata": {
    "id": "oKFZpgdkMeTi"
   },
   "outputs": [],
   "source": [
    "# load mnist data train/test\n",
    "(trainX, trainY), (testX, testY) = mnist.load_data()"
   ]
  },
  {
   "cell_type": "code",
   "execution_count": null,
   "metadata": {
    "colab": {
     "base_uri": "https://localhost:8080/",
     "height": 282
    },
    "id": "bTSvsAUUMulK",
    "outputId": "8eea3fe4-5a92-4ea9-f74e-b7c599229eef"
   },
   "outputs": [],
   "source": [
    "# show first element in the array\n",
    "plt.imshow( trainX[0] )"
   ]
  },
  {
   "cell_type": "code",
   "execution_count": null,
   "metadata": {
    "colab": {
     "base_uri": "https://localhost:8080/"
    },
    "id": "Qh5t04jcNk9v",
    "outputId": "90c90836-08f6-4ed1-b4ad-3fab8a08474c"
   },
   "outputs": [],
   "source": [
    "# show label of first element in the array\n",
    "testY"
   ]
  },
  {
   "cell_type": "code",
   "execution_count": null,
   "metadata": {
    "id": "n3DWs5Z8N0ZD"
   },
   "outputs": [],
   "source": [
    "# define model\n",
    "model = Sequential()\n",
    "\n",
    "# input layer\n",
    "model.add(InputLayer((28,28)))\n",
    "\n",
    "# hidden layers\n",
    "model.add(Flatten())\n",
    "model.add(Dense(128, activation='relu'))\n",
    "model.add(Dense(64, activation='relu'))\n",
    "model.add(Dense(32, activation='relu'))\n",
    "model.add(Dense(16, activation='relu'))\n",
    "model.add(Dense(10, activation='linear'))\n",
    "\n",
    "# output layer\n",
    "model.add(Softmax())"
   ]
  },
  {
   "cell_type": "code",
   "execution_count": null,
   "metadata": {
    "colab": {
     "base_uri": "https://localhost:8080/"
    },
    "id": "dhJAHTZwPAKX",
    "outputId": "07c1cb8b-297f-477b-d204-5d5f740637e5"
   },
   "outputs": [],
   "source": [
    "# show summary and compile model\n",
    "model.summary()\n",
    "model.compile(loss=CategoricalCrossentropy(), optimizer='adam', metrics=['accuracy'])"
   ]
  },
  {
   "cell_type": "code",
   "execution_count": null,
   "metadata": {
    "colab": {
     "base_uri": "https://localhost:8080/"
    },
    "id": "FDBGyGhnOdbH",
    "outputId": "fa7dbd8c-652c-4417-a5cc-2f43d1803feb"
   },
   "outputs": [],
   "source": [
    "trainX.shape"
   ]
  },
  {
   "cell_type": "code",
   "execution_count": null,
   "metadata": {
    "colab": {
     "base_uri": "https://localhost:8080/"
    },
    "id": "NfQfWEaRP4sW",
    "outputId": "c8d21eca-b902-4184-c0f2-4e12e0c71f53"
   },
   "outputs": [],
   "source": [
    "trainY.shape"
   ]
  },
  {
   "cell_type": "code",
   "execution_count": null,
   "metadata": {
    "colab": {
     "base_uri": "https://localhost:8080/"
    },
    "id": "Zdh_ZUusRdmR",
    "outputId": "c9d07190-95e3-4571-b52c-e8528cdd97d4"
   },
   "outputs": [],
   "source": [
    "testX.shape"
   ]
  },
  {
   "cell_type": "code",
   "execution_count": null,
   "metadata": {
    "colab": {
     "base_uri": "https://localhost:8080/"
    },
    "id": "L9_v4pL9ReRm",
    "outputId": "fefab931-9064-4ab1-d1db-580cec0a74eb"
   },
   "outputs": [],
   "source": [
    "trainY.shape"
   ]
  },
  {
   "cell_type": "code",
   "execution_count": null,
   "metadata": {
    "colab": {
     "base_uri": "https://localhost:8080/"
    },
    "id": "BV2HbLT3Ulwq",
    "outputId": "bc51298a-77b5-4703-a87e-7b24f022a289"
   },
   "outputs": [],
   "source": [
    "# convert trainY to one-hot-encoding\n",
    "trainY = to_categorical(trainY)\n",
    "trainY.shape"
   ]
  },
  {
   "cell_type": "code",
   "execution_count": null,
   "metadata": {
    "colab": {
     "base_uri": "https://localhost:8080/"
    },
    "id": "ZNCf-caKa-8V",
    "outputId": "3f6393df-b816-4f9d-bd81-bb038ea65828"
   },
   "outputs": [],
   "source": [
    "trainY[0]"
   ]
  },
  {
   "cell_type": "code",
   "execution_count": null,
   "metadata": {
    "colab": {
     "base_uri": "https://localhost:8080/"
    },
    "id": "Sb2434GIRe_f",
    "outputId": "e52985c3-4719-47c8-eaf3-105601ad0b14"
   },
   "outputs": [],
   "source": [
    "model.fit( trainX, trainY, epochs=15)"
   ]
  },
  {
   "cell_type": "code",
   "execution_count": null,
   "metadata": {
    "id": "DaO0e4mGRfNH"
   },
   "outputs": [],
   "source": [
    "model.save('mymodel.h5')"
   ]
  },
  {
   "cell_type": "code",
   "execution_count": null,
   "metadata": {
    "colab": {
     "base_uri": "https://localhost:8080/"
    },
    "id": "Kuqg9Gi7SFVi",
    "outputId": "809136d4-bfec-43bf-8c57-9a6cd8c35b11"
   },
   "outputs": [],
   "source": [
    "model.evaluate(trainX, trainY)"
   ]
  },
  {
   "cell_type": "code",
   "execution_count": null,
   "metadata": {
    "colab": {
     "base_uri": "https://localhost:8080/"
    },
    "id": "QHAJEbVpSFgV",
    "outputId": "e7210234-5d66-4839-9564-9080561c7bf4"
   },
   "outputs": [],
   "source": [
    "# model.predict expects (rowcounts, num#, num#)\n",
    "# whereas 1st element has only (num#, num#)\n",
    "testX[0].shape"
   ]
  },
  {
   "cell_type": "code",
   "execution_count": null,
   "metadata": {
    "colab": {
     "base_uri": "https://localhost:8080/"
    },
    "id": "w2DReSrMSFoq",
    "outputId": "00ce0fed-8e5c-4c57-8f1f-04291bff0f40"
   },
   "outputs": [],
   "source": [
    "# make it a range instead and it will have rowcount\n",
    "testX[0:1].shape"
   ]
  },
  {
   "cell_type": "code",
   "execution_count": null,
   "metadata": {
    "colab": {
     "base_uri": "https://localhost:8080/"
    },
    "id": "jb5qz64TSFvs",
    "outputId": "9eeba564-3099-4bae-b3c2-b201d65c42c4"
   },
   "outputs": [],
   "source": [
    "prediction = model.predict( testX[0:1] )"
   ]
  },
  {
   "cell_type": "code",
   "execution_count": null,
   "metadata": {
    "id": "YU0eaoZMSF4J"
   },
   "outputs": [],
   "source": [
    "prediction, testY"
   ]
  },
  {
   "cell_type": "code",
   "execution_count": null,
   "metadata": {},
   "outputs": [],
   "source": []
  }
 ],
 "metadata": {
  "colab": {
   "collapsed_sections": [],
   "name": "Keras Datasets.ipynb",
   "provenance": []
  },
  "kernelspec": {
   "display_name": "Python 3",
   "language": "python",
   "name": "python3"
  },
  "language_info": {
   "codemirror_mode": {
    "name": "ipython",
    "version": 3
   },
   "file_extension": ".py",
   "mimetype": "text/x-python",
   "name": "python",
   "nbconvert_exporter": "python",
   "pygments_lexer": "ipython3",
   "version": "3.6.9"
  }
 },
 "nbformat": 4,
 "nbformat_minor": 1
}
